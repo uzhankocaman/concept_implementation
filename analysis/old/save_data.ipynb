{
 "cells": [
  {
   "cell_type": "code",
   "execution_count": 1,
   "metadata": {},
   "outputs": [],
   "source": [
    "from openpyxl import load_workbook\n",
    "import pandas as pd\n",
    "\n",
    "def append_row_to_excel(file_path, row_data):\n",
    "    df_row = pd.DataFrame([row_data])\n",
    "\n",
    "    workbook = load_workbook(filename=file_path)\n",
    "    sheet = workbook.active\n",
    "\n",
    "    for r in df_row.to_numpy():\n",
    "        sheet.append(r.tolist())\n",
    "\n",
    "    workbook.save(filename=file_path)\n",
    "\n",
    "row = {\"Column1\": \"Value1\", \"Column2\": \"Value2\"}\n",
    "file = \"C:/Users/U/Documents/4.Semester/Masterarbeit/concept_implementation/analysis/CAN_testing.xlsx\"\n",
    "append_row_to_excel(file, row)\n"
   ]
  },
  {
   "cell_type": "code",
   "execution_count": 9,
   "metadata": {},
   "outputs": [
    {
     "ename": "AttributeError",
     "evalue": "property 'sheets' of 'OpenpyxlWriter' object has no setter",
     "output_type": "error",
     "traceback": [
      "\u001b[1;31m---------------------------------------------------------------------------\u001b[0m",
      "\u001b[1;31mAttributeError\u001b[0m                            Traceback (most recent call last)",
      "\u001b[1;32mc:\\Users\\U\\Documents\\4.Semester\\Masterarbeit\\concept_implementation\\analysis\\save_data.ipynb Cell 2\u001b[0m line \u001b[0;36m4\n\u001b[0;32m     <a href='vscode-notebook-cell:/c%3A/Users/U/Documents/4.Semester/Masterarbeit/concept_implementation/analysis/save_data.ipynb#W1sZmlsZQ%3D%3D?line=39'>40</a>\u001b[0m df \u001b[39m=\u001b[39m pd\u001b[39m.\u001b[39mDataFrame({\u001b[39m'\u001b[39m\u001b[39mColumn1\u001b[39m\u001b[39m'\u001b[39m: [\u001b[39m'\u001b[39m\u001b[39mValue1\u001b[39m\u001b[39m'\u001b[39m], \u001b[39m'\u001b[39m\u001b[39mColumn2\u001b[39m\u001b[39m'\u001b[39m: [\u001b[39m'\u001b[39m\u001b[39mValue2\u001b[39m\u001b[39m'\u001b[39m]})\n\u001b[0;32m     <a href='vscode-notebook-cell:/c%3A/Users/U/Documents/4.Semester/Masterarbeit/concept_implementation/analysis/save_data.ipynb#W1sZmlsZQ%3D%3D?line=40'>41</a>\u001b[0m file \u001b[39m=\u001b[39m \u001b[39m\"\u001b[39m\u001b[39mC:/Users/U/Documents/4.Semester/Masterarbeit/concept_implementation/analysis/CAN_testing.xlsx\u001b[39m\u001b[39m\"\u001b[39m\n\u001b[1;32m---> <a href='vscode-notebook-cell:/c%3A/Users/U/Documents/4.Semester/Masterarbeit/concept_implementation/analysis/save_data.ipynb#W1sZmlsZQ%3D%3D?line=41'>42</a>\u001b[0m append_df_to_excel(file, df)\n",
      "\u001b[1;32mc:\\Users\\U\\Documents\\4.Semester\\Masterarbeit\\concept_implementation\\analysis\\save_data.ipynb Cell 2\u001b[0m line \u001b[0;36m2\n\u001b[0;32m     <a href='vscode-notebook-cell:/c%3A/Users/U/Documents/4.Semester/Masterarbeit/concept_implementation/analysis/save_data.ipynb#W1sZmlsZQ%3D%3D?line=19'>20</a>\u001b[0m \u001b[39mif\u001b[39;00m file_exists:\n\u001b[0;32m     <a href='vscode-notebook-cell:/c%3A/Users/U/Documents/4.Semester/Masterarbeit/concept_implementation/analysis/save_data.ipynb#W1sZmlsZQ%3D%3D?line=20'>21</a>\u001b[0m     \u001b[39m# If the file exists, use 'append' mode and calculate startrow\u001b[39;00m\n\u001b[0;32m     <a href='vscode-notebook-cell:/c%3A/Users/U/Documents/4.Semester/Masterarbeit/concept_implementation/analysis/save_data.ipynb#W1sZmlsZQ%3D%3D?line=21'>22</a>\u001b[0m     writer \u001b[39m=\u001b[39m pd\u001b[39m.\u001b[39mExcelWriter(file_path, engine\u001b[39m=\u001b[39m\u001b[39m'\u001b[39m\u001b[39mopenpyxl\u001b[39m\u001b[39m'\u001b[39m, mode\u001b[39m=\u001b[39m\u001b[39m'\u001b[39m\u001b[39ma\u001b[39m\u001b[39m'\u001b[39m)\n\u001b[1;32m---> <a href='vscode-notebook-cell:/c%3A/Users/U/Documents/4.Semester/Masterarbeit/concept_implementation/analysis/save_data.ipynb#W1sZmlsZQ%3D%3D?line=22'>23</a>\u001b[0m     writer\u001b[39m.\u001b[39;49msheets \u001b[39m=\u001b[39m load_workbook(file_path)\n\u001b[0;32m     <a href='vscode-notebook-cell:/c%3A/Users/U/Documents/4.Semester/Masterarbeit/concept_implementation/analysis/save_data.ipynb#W1sZmlsZQ%3D%3D?line=23'>24</a>\u001b[0m     \u001b[39mif\u001b[39;00m startrow \u001b[39mis\u001b[39;00m \u001b[39mNone\u001b[39;00m \u001b[39mand\u001b[39;00m sheet_name \u001b[39min\u001b[39;00m writer\u001b[39m.\u001b[39mbook\u001b[39m.\u001b[39msheetnames:\n\u001b[0;32m     <a href='vscode-notebook-cell:/c%3A/Users/U/Documents/4.Semester/Masterarbeit/concept_implementation/analysis/save_data.ipynb#W1sZmlsZQ%3D%3D?line=24'>25</a>\u001b[0m         startrow \u001b[39m=\u001b[39m writer\u001b[39m.\u001b[39mbook[sheet_name]\u001b[39m.\u001b[39mmax_row\n",
      "\u001b[1;31mAttributeError\u001b[0m: property 'sheets' of 'OpenpyxlWriter' object has no setter"
     ]
    }
   ],
   "source": [
    "import pandas as pd\n",
    "from openpyxl import load_workbook\n",
    "from os.path import exists\n",
    "\n",
    "def append_df_to_excel(file_path, df, sheet_name='Sheet1', startrow=None, **to_excel_kwargs):\n",
    "    file_exists = exists(file_path)\n",
    "    \n",
    "    if file_exists:\n",
    "        writer = pd.ExcelWriter(file_path, engine='openpyxl', mode='a')\n",
    "        writer.sheets = load_workbook(file_path)\n",
    "        if startrow is None and sheet_name in writer.book.sheetnames:\n",
    "            startrow = writer.book[sheet_name].max_row\n",
    "        if startrow is None:\n",
    "            startrow = 0\n",
    "    else:\n",
    "        writer = pd.ExcelWriter(file_path, engine='openpyxl', mode='w')\n",
    "        startrow = 0\n",
    "\n",
    "    df.to_excel(writer, sheet_name=sheet_name, startrow=startrow, **to_excel_kwargs)\n",
    "\n",
    "    writer.save()\n",
    "\n",
    "df = pd.DataFrame({'Column1': ['Value1'], 'Column2': ['Value2']})\n",
    "file = \"C:/Users/U/Documents/4.Semester/Masterarbeit/concept_implementation/analysis/CAN_testing.xlsx\"\n",
    "append_df_to_excel(file, df)\n"
   ]
  }
 ],
 "metadata": {
  "kernelspec": {
   "display_name": "Python 3",
   "language": "python",
   "name": "python3"
  },
  "language_info": {
   "codemirror_mode": {
    "name": "ipython",
    "version": 3
   },
   "file_extension": ".py",
   "mimetype": "text/x-python",
   "name": "python",
   "nbconvert_exporter": "python",
   "pygments_lexer": "ipython3",
   "version": "3.11.4"
  }
 },
 "nbformat": 4,
 "nbformat_minor": 2
}
